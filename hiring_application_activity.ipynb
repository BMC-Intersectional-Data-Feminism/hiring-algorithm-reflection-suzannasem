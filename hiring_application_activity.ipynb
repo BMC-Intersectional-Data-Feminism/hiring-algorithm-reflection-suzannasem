{
 "cells": [
  {
   "cell_type": "markdown",
   "metadata": {},
   "source": [
    "# Week 3 Activity: Reflection on a Hiring Filter Algorithm \n",
    "Activity adapted from exercise developed by [Evan Peck](https://evanpeck.github.io/)\n",
    "\n",
    "## Scenario: Moogle’s Hiring Filter\n",
    "Imagine you are working for Moogle, a well-known tech company that receives tens of thousands of job applications from graduating seniors every year. Since the company receives too many job applications for HR to individually assess in a reasonable amount of time, you are asked to create a program that algorithmically analyzes applications and selects the ones most worth passing onto HR.\n",
    "\n",
    "\n",
    "\n",
    "### Applicant Data\n",
    "It’s difficult to create these first-pass cuts, so Moogle designs their application forms to get some numerical data about their applicants’ education. Job applicants must enter the grades they received in 6 core CS courses, as well as their overall GPA. For your convenience, this will be stored in a python `list` that you can access. \n",
    "\n",
    "For example, a student who received the following scores. . .\n",
    "- Intro to CS: 100\n",
    "- Data Structures: 95\n",
    "- Software Engineering: 80\n",
    "- Algorithms: 89\n",
    "- Computer Organization: 91\n",
    "- Operative Systems: 75\n",
    "- Overall GPA: 83\n",
    "\n",
    ". . . would result in the following list: `[100, 95, 80, 89, 91, 75, 83]`. You can assume that index `0` is always Intro to CS, `1` is always Data Structures, and so on.\n",
    "\n",
    "Because you are processing many applications, your program will receive a list of lists. For example, this would be the information for 3 applicants:\n",
    "\n",
    "`[ [100, 95, 80, 89, 91, 75, 83], [75, 80, 85, 90, 85, 88, 90], [85, 70, 99, 100, 81, 82, 91] ]`"
   ]
  },
  {
   "cell_type": "markdown",
   "metadata": {},
   "source": [
    "### Your Task\n",
    "Your job is to:\n",
    "1. Determine how you are going to select the top applicants to pass onto HR.\n",
    "2. Given a list of applicant data (a list of lists), write code to identify a new list of worthwhile candidates."
   ]
  },
  {
   "cell_type": "markdown",
   "metadata": {},
   "source": [
    "### The Data \n",
    "\n",
    "Before we use the entire dataset of applications, we're going to write and test our code using a much smaller sample of the dataset. This will be saved in `sample_data` and contain only ten applicant lists. Notice how this is just a list of lists with each list being a unique applicant. "
   ]
  },
  {
   "cell_type": "code",
   "execution_count": 70,
   "metadata": {},
   "outputs": [],
   "source": [
    "sample_data = [[93, 89, 63, 88, 60, 73, 80], [100, 63, 57, 96, 58, 71, 78], [81, 91, 99, 78, 57, 87, 86], [81, 73, 100, 57, 91, 60, 66], [86, 89, 64, 81, 69, 93, 92], [78, 63, 88, 95, 59, 98, 90], [55, 74, 68, 55, 69, 94, 80], [64, 77, 75, 92, 77, 72, 83], [95, 58, 92, 62, 77, 64, 59], [94, 78, 84, 83, 68, 63, 76]]"
   ]
  },
  {
   "cell_type": "markdown",
   "metadata": {},
   "source": [
    "1. Let's assume we are hiring for a software engineering role. First, I order the classes by importance (Software Engineering, Algorithms, Operating Systems, Data Structures, Computer Organization, Intro to CS) "
   ]
  },
  {
   "cell_type": "code",
   "execution_count": 10,
   "metadata": {},
   "outputs": [
    {
     "name": "stdout",
     "output_type": "stream",
     "text": [
      "[[81, 91, 99, 78, 57, 87, 86], [86, 89, 64, 81, 69, 93, 92], [78, 63, 88, 95, 59, 98, 90], [64, 77, 75, 92, 77, 72, 83]]\n"
     ]
    }
   ],
   "source": [
    "len(sample_data)\n",
    "selection = list()\n",
    "\n",
    "for i in sample_data:\n",
    "    if i[6] > 80:\n",
    "        selection.append(i)\n",
    "print(selection)"
   ]
  },
  {
   "cell_type": "markdown",
   "metadata": {},
   "source": [
    "Now let's take a look at the entire dataset of 5,000 applications. This is saved in another file so we're going to go ahead and load this into memory and then take a look at the data. Notice that it's formatted exactly the same as the sample data as a list of lists!"
   ]
  },
  {
   "cell_type": "code",
   "execution_count": 1,
   "metadata": {},
   "outputs": [],
   "source": [
    "from applications import *"
   ]
  },
  {
   "cell_type": "code",
   "execution_count": 4,
   "metadata": {},
   "outputs": [
    {
     "data": {
      "text/plain": [
       "5000"
      ]
     },
     "execution_count": 4,
     "metadata": {},
     "output_type": "execute_result"
    }
   ],
   "source": [
    "len(applications)"
   ]
  },
  {
   "cell_type": "markdown",
   "metadata": {},
   "source": [
    "### Algorithms \n",
    "\n",
    "Now we're going to write algorithms to select applicants based on a variety of decisions. For each one, take note of how many applicants are passed onto the next stage of the application process. Think through the decisions being made and how these decisions might enforce or reduce systemic and cultural oppression. \n",
    "\n",
    "1. Selects applicants that have an overall GPA above 80\n",
    "2. Selects applicants that have no grade below 65\n",
    "3. Selects applicants that have at least 5 grades above 80\n",
    "4. Selects applicants that have an average of the six classes above 85\n",
    "5. Your own algorithm to select applicants "
   ]
  },
  {
   "cell_type": "code",
   "execution_count": 24,
   "metadata": {},
   "outputs": [
    {
     "name": "stdout",
     "output_type": "stream",
     "text": [
      "2117 applicants have GPA above 80.\n",
      "42.34 %  of applicants passed through selection.\n"
     ]
    }
   ],
   "source": [
    "selection1 = list() ## create a list to hold the selected applicants\n",
    "\n",
    "# for loop\n",
    "for i in applications: # loop through applications\n",
    "    if i[6] > 80: # if GPA > 80\n",
    "        selection1.append(i) # add applicant file to list\n",
    "        # selection += [applicant]\n",
    "\n",
    "# how many applicants made it through\n",
    "print(len(selection1),\"applicants have GPA above 80.\")\n",
    "\n",
    "# percentage got through\n",
    "print(len(selection1)/len(applications)*100, \"%\",\" of applicants passed through selection.\")\n"
   ]
  },
  {
   "cell_type": "markdown",
   "metadata": {},
   "source": [
    "How many applicants did we select with this filter? What percentage of our total sample size is that?  \n",
    "\n",
    "Let's try another potential algorithm where we select applicants that have no grade below a 65. "
   ]
  },
  {
   "cell_type": "code",
   "execution_count": 25,
   "metadata": {},
   "outputs": [
    {
     "name": "stdout",
     "output_type": "stream",
     "text": [
      "1183 applicants have no grades below 65.\n",
      "23 % of applicants have no grades below 65.\n"
     ]
    }
   ],
   "source": [
    "selection2 = list() ## create a list to hold the selected applicants\n",
    "\n",
    "for application in applications: ## loops through every applicant in sample data \n",
    "    above65 = True\n",
    "    for grade in application[0:6]:# inclusive on LHS, exclusive on RHS -> all grades (not GPA) # checking all grades\n",
    "        if grade < 65: # if any grade < 65\n",
    "            above65 = False # set var to false\n",
    "    if above65 == True: # if it's true (i.e. passed test)\n",
    "        selection2.append(application) # add to selected list\n",
    "\n",
    "# printing how many passed\n",
    "print(len(selection2), \"applicants have no grades below 65.\")\n",
    "\n",
    "# printing %%\n",
    "print(int(len(selection2)/len(applications)*100),\"%\",\"of applicants have no grades below 65.\")\n"
   ]
  },
  {
   "cell_type": "markdown",
   "metadata": {},
   "source": [
    "Now let's try to create a filter for selecting applicants that have at least five grades above 85. **Hint**: A counter can be useful here! "
   ]
  },
  {
   "cell_type": "code",
   "execution_count": 26,
   "metadata": {},
   "outputs": [
    {
     "name": "stdout",
     "output_type": "stream",
     "text": [
      "82 applicants haveat least five grades above 85.\n",
      "1 % of applicants have passed this test.\n"
     ]
    }
   ],
   "source": [
    "selection3 = list()\n",
    "\n",
    "for applicant in applications:\n",
    "    above85 = 0 # counter\n",
    "    for grade in applicant[0:6]: # for each grade\n",
    "        if grade > 85:\n",
    "            above85 += 1 # count +1 if above 85\n",
    "    if above85 >=5: # if at least 5 grades above 85\n",
    "        selection3.append(applicant) # add to list\n",
    "\n",
    "print(len(selection3),\"applicants haveat least five grades above 85.\")\n",
    "print(int(len(selection3)/len(applications)*100),\"%\",\"of applicants have passed this test.\")"
   ]
  },
  {
   "cell_type": "markdown",
   "metadata": {},
   "source": [
    "Finally, let's write a algorithm that selects applicants if they have an average grade of at least 85 across their six classes. "
   ]
  },
  {
   "cell_type": "code",
   "execution_count": 27,
   "metadata": {},
   "outputs": [
    {
     "name": "stdout",
     "output_type": "stream",
     "text": [
      "428 applicants have average grade of at least 85.\n",
      "8 % of applicants have passed this test.\n"
     ]
    }
   ],
   "source": [
    "selection4 = list()\n",
    "\n",
    "for applicant in applications: # iterate through applicant list\n",
    "    avg = sum(applicant[0:6])/6 # calculate average of class scores\n",
    "    if avg >= 85: # check greater than 85\n",
    "        selection4.append(applicant) # add to list\n",
    "\n",
    "# print number of selections\n",
    "print(len(selection4),\"applicants have average grade of at least 85.\")\n",
    "\n",
    "# proportion\n",
    "print(int(len(selection4)/len(applications)*100),\"%\", \"of applicants have passed this test.\")"
   ]
  },
  {
   "cell_type": "markdown",
   "metadata": {},
   "source": [
    "In the space below, work in group to decide what types of criteria you want to use to write an algorithm to select applicants. First test it with the sample data then run it with the entire set of applicants.  \n",
    "\n",
    "A useful piece of code that will give you the percentage of applicants you kept is: \n",
    "\n",
    "`print(\"Your algorithm kept\", round(len(selection)/len(applications)*100), \"percent of applicants\")`"
   ]
  },
  {
   "cell_type": "code",
   "execution_count": 28,
   "metadata": {},
   "outputs": [
    {
     "name": "stdout",
     "output_type": "stream",
     "text": [
      "[[79.7, 94, 78, 84, 83, 68, 76]]\n",
      "1 applicants \n",
      "[[79.7, 94, 78, 84, 83, 68, 76]]\n",
      "10.0 % of applicants have passed this test.\n"
     ]
    }
   ],
   "source": [
    "# BECUASE OF REMOVE FN YOU NEED TO RESET DATA EVERY TIME YOU RUN THIS\n",
    "sample_data = [[93, 89, 63, 88, 60, 73, 80], [100, 63, 57, 96, 58, 71, 78], [81, 91, 99, 78, 57, 87, 86], [81, 73, 100, 57, 91, 60, 66], [86, 89, 64, 81, 69, 93, 92], [78, 63, 88, 95, 59, 98, 90], [55, 74, 68, 55, 69, 94, 80], [64, 77, 75, 92, 77, 72, 83], [95, 58, 92, 62, 77, 64, 59], [94, 78, 84, 83, 68, 63, 76]]\n",
    "from applications import *\n",
    "\n",
    "my_selection = list() # create empty list\n",
    "sample_data_weight = list() # stores weighted averages with applicants \n",
    "\n",
    "for applicant in sample_data: # for loop\n",
    "\n",
    "    above80 = True # starting w recalculated average\n",
    "    applicant.remove(min(applicant[0:6])) # drop lowest grade\n",
    "    good_avg = sum(applicant[0:6])/6 # making new average\n",
    "    if good_avg < 80:\n",
    "        above80 == False\n",
    "\n",
    "    # begin weighted average\n",
    "    SWE = applicant[2] # naming all classes so this is easier\n",
    "    ALG = applicant[3]\n",
    "    CO = applicant[4]\n",
    "    DS = applicant[2]\n",
    "\n",
    "    w_SWE = 0.35 # weights for each class, can be easily changed\n",
    "    w_ALG = 0.3\n",
    "    w_CO = 0.25\n",
    "    w_DS = 0.1\n",
    "    weight_avg = (w_SWE*SWE + w_ALG*ALG + w_CO*CO + w_DS*DS) # weighted avg\n",
    "    applicant.insert(0,weight_avg) # add weighted avg to list in 1st position\n",
    "    sample_data_weight = [applicant] # store in a list\n",
    "\n",
    "# the big selector\n",
    "sample_data_weight.sort(reverse=True) # sort by highest weighted average\n",
    "for applicant in sample_data_weight:\n",
    "    if above80 == True: # if good avg > 80\n",
    "        sample_data_weight = sample_data_weight[0:3] # picks top 3 candidates based on weighted avg\n",
    "        my_selection.append(applicant) # add to list\n",
    "        print(my_selection)\n",
    "\n",
    "# print number of selections\n",
    "print(len(my_selection),\"applicants \")\n",
    "print(my_selection)\n",
    "\n",
    "# proportion\n",
    "print(len(my_selection)/len(sample_data)*100,\"%\", \"of applicants have passed this test.\")"
   ]
  },
  {
   "cell_type": "markdown",
   "metadata": {},
   "source": [
    "Questions to Answer: \n",
    "1. What criteria did you choose to select finalists? How did you choose that criteria?\n",
    "\n",
    "I decided to weigh grades by the following metric:\n",
    "* First, drop the lowest grade and calculate new GPA.\n",
    "* Take weighted average of grades. I prioritized (1) SWE, (2) Algorithms, (3) Computer Organization, and (4) Data structures because these classes seem to relate most directly to industry jobs. I kind of arbitrarily assigned weights, which can be adjusted depending on what skills are prioritized for the role. I also included our new, lowest-grade dropped GPA to factor in overall performance, and required that be above 80%.\n",
    "* I picked the students with highest weighted average of grades, who also have an adjusted GPA > 80. This way we can control how many resumes we look at. The code can be adjusted to give top 10, top 20, top 30, etc.\n",
    "\n",
    "I chose this criteria because I thought it gave some grace to candidates by considering a recalculated GPA, but also has the ability to be tailored depending on the role.\n",
    "\n",
    "2. Roughly what percentage of applicants does your algorithm pass on as finalists? Is that enough? If Moogle asked you to take a more aggressive approach with your algorithm, are there any tradeoffs?\n",
    "\n",
    "Only 1 person in the sample set (10%) passed through as a finalist. It might be because of an error in the code, but it also might be because not many students have an adjusted GPA higher than a B. That can be adjusted as needed depending on the applicant pool size.\n",
    "\n",
    "A more aggressive approach would produce fewer applicants for hiring managers to read, with the tradeoff that Moogle may miss out on some incredible candidates because they only consider the highest scoring students. If we can't find a candidate we like from that small pool of high-achieving students, it will also take longer to go back and adjust the algorithm to find more candidates than it would have been to have a large pool from the beginning."
   ]
  },
  {
   "cell_type": "markdown",
   "metadata": {},
   "source": [
    "___\n",
    "While our data seemed to perfectly reported and without any inconsitencies, the world is less perfect. Consider the following scenarios: \n",
    "\n",
    "___\n",
    "*Story 1*: Misread the Instructions\n",
    "What if an excellent applicant thinks they should put in letter grades?\n",
    "\n",
    "`[‘A’, ‘A’, ‘A’, ‘A’, ‘A’, ‘A’, ‘A’]`\n",
    "\n",
    ". . . or how about their grades on 4-point scale?\n",
    "\n",
    "`[4, 3.9, 4, 4, 3.95, 4, 3.9]`\n",
    "\n",
    "My algorithm would not handle these applicants well. I would need to add a dictionary matching the 4.0 scale to a 100 scale, and to a letter scale, to normalize the data.\n",
    "\n",
    "___\n",
    "*Story 2*: Bad Assumptions\n",
    "What if one of your applicants skipped Intro to Computer Science? When they saw your form, they froze, and decided that putting -1 in the input field would make it obvious. . .\n",
    "\n",
    "`[-1, 95, 99, 94, 96, 98, 95]`\n",
    "\n",
    "I would have to add a line that drops any non-integer values that aren't letter grades.\n",
    "___\n",
    "*Story 3*: Mistake in the Input\n",
    "What if one of your applicants accidentally put in a number > 100?\n",
    "\n",
    "`[681, 68, 73, 70, 81, 91, 59]`\n",
    "\n",
    "That might seem easy enough for a program to catch, but what if they accidentally dropped a 0?\n",
    "\n",
    "`[100, 100, 100, 100, 100, 100, 10]`\n",
    "\n",
    "A person would catch that mistake easily, does your algorithm?\n",
    "\n",
    "I would have to limit values to 0 - 100. My algorithm currently does not catch the 10. It would drop it since that's the lowest grade, but that puts this applicant at a disadvantage because the other candidates get a bumped-up GPA while this one does not.\n",
    "___\n",
    "*Story 4*: The Awful Semester\n",
    "What if your applicant had a medical emergency one semester? Or a personal tragedy?\n",
    "\n",
    "`[95, 93, 50, 91, 98, 90, 90]`\n",
    "\n",
    "This is covered by my algorithm since I dropped the lowest grade to calculate the weighted average. If that class is one that I've designated more important, then it negatively impacts them.\n",
    "___\n",
    "*Story 5*: Inverse Trajectories\n",
    "What if one of your applicants came from an underprivileged background and really struggled at the beginning of college. . . but showed extraordinary growth by the end?\n",
    "\n",
    "`[65, 75, 85, 95, 100, 100, 80]`\n",
    "\n",
    "What if one of your applicants came to college with extraordinary potential? They easily aced their first few classes and then gradually grew apathetic about their education - getting nothing but barely-passing grades by the time they were a senior?\n",
    "\n",
    "`[100, 100, 95, 85, 75, 65, 80]`\n",
    "\n",
    "Does your algorithm treat them equally?\n",
    "\n",
    "My algorithm would give them the same adjusted GPA, but the student with growth would perform better because they had higher scores in the higher-weighted classes (which are typically offered later on in college), giving them a higher weighted GPA.\n",
    "\n",
    "___"
   ]
  },
  {
   "cell_type": "markdown",
   "metadata": {},
   "source": [
    "Complete the following questions reflecting on these scenarios:\n",
    "\n",
    "3. What systemic advantages/disadvantages are your algorithms likely to amplify?\n",
    "\n",
    "These kinds of algorithms are giving students from wealthier and more privileged backgrounds an advantage in the hiring process. For example, if a student has lower grades because they have to work to afford their education, they are not considered as highly for the role. There are also student athletes, who spend a lot of time practicing for their sport and don't have as much time to study. Students with learning disabilities or who have trouble taking tests would also get filtered out of this system. \n",
    "\n",
    "4. What does it mean to design a fair algorithm?\n",
    "\n",
    "A fair algorithm is one that does not amplify & tries to mitigate systemic advantages and disadvantages. This is easier said than done. It considers all applicants with their diverse experiences and does not penalize any applicant simply for being from a certain background (including all experiences or lack thereof associated with that background).\n",
    "\n",
    "5. If you had access to additional data beyond grades (e.g., extracurricular activities, internships, letters of recommendation), how might you incorporate it into your selection process? Would it make your algorithm fairer or introduce new biases?\n",
    "\n",
    "This would make the algorithm fairer in some ways and more biased in others. For example, by considering extracurriculars, we would be helping students who struggle with test-taking but are highly creative, as wel as student athletes. However, considering internships may be favoring students whose families already work in that field and could help them secure an internship. If we include unpaid internships, that also poses a barrier compared to students who cannot afford to work without pay. Letters of recommendation might help make the process fairer, depending on who it is from. If we require they be from professors, we still may be excluding students whose strengths are not in the classroom.\n",
    "\n",
    "6. How do current hiring filter algorithms work? What problems do they encounter? How do these algorithms broadly compare to the ones we wrote today? (Some example articles discussing hiring filters linked below in citations but you're not limited to these examples) \n",
    "\n",
    "Current hiring filter algorithms consider those who were historically successful applicants (i.e. current and past employees) and determines patterns to screen for new candidates. The issue with this approach is that if a team was mostly men, or mostly graduates from a specific college, or if everyone played a certain sport, then the algorithm will continue to prioritize those applicants who fit that criteria. AI tools take input very literally and will actively discriminate against certain groups if it has bene trained to do so, even if the engineers didn't intend for the AI to be discriminatory. That's why it's so importqnt to address bias before we begin developing algorithms to make sure that as many candidates as possible are fairly considered for the role.\n",
    "\n",
    "I found the article on \"hiring by exploration\" interesting since it considers applicants who have experiences outside of the norm more highly. This can ensure that a company gets a diverse group of employees. I think it's a step in the right direction for developing fairer algorithms, though we should continue to think about what kinds of biases might be hidden in every algorithm.\n"
   ]
  },
  {
   "cell_type": "markdown",
   "metadata": {},
   "source": [
    "Citations: \n",
    "\n",
    "Stacy A. Doore, Casey Fiesler, Michael S. Kirkpatrick, Evan Peck, and Mehran Sahami. 2020. Assignments that Blend Ethics and Technology. In Proceedings of the 51st ACM Technical Symposium on Computer Science Education (SIGCSE ‘20). Association for Computing Machinery, New York, NY, USA, 475–476. DOI:https://doi.org/10.1145/3328778.3366994\n",
    "\n",
    "[Amazon scraps secret AI recruiting tool that showed bias against women](https://www.reuters.com/article/us-amazon-com-jobs-automation-insight/amazon-scraps-secret-ai-recruiting-tool-that-showed-bias-against-women-idUSKCN1MK08G/)\n",
    "\n",
    "[Hiring Algorithms Are Not Neutral](https://hbr.org/2016/12/hiring-algorithms-are-not-neutral)\n",
    "\n",
    "[Can an Algorithm Hire Better Than a Human?](https://www.nytimes.com/2015/06/26/upshot/can-an-algorithm-hire-better-than-a-human.html)\n",
    "\n",
    "[Algorithms in Hiring](https://blog.learningcollider.org/algorithms-in-hiring-6760ea8869b)\n",
    "\n",
    "[Exploration-based algorithms can improve hiring quality and diversity](https://mitsloan.mit.edu/ideas-made-to-matter/exploration-based-algorithms-can-improve-hiring-quality-and-diversity)\n",
    "\n",
    "[AI hiring tools may be filtering out the best job applicants](https://www.bbc.com/worklife/article/20240214-ai-recruiting-hiring-software-bias-discrimination)\n",
    "\n",
    "[Challenges for mitigating bias in algorithmic hiring](https://www.brookings.edu/articles/challenges-for-mitigating-bias-in-algorithmic-hiring/)\n",
    "\n"
   ]
  }
 ],
 "metadata": {
  "kernelspec": {
   "display_name": "Python 3",
   "language": "python",
   "name": "python3"
  },
  "language_info": {
   "codemirror_mode": {
    "name": "ipython",
    "version": 3
   },
   "file_extension": ".py",
   "mimetype": "text/x-python",
   "name": "python",
   "nbconvert_exporter": "python",
   "pygments_lexer": "ipython3",
   "version": "3.12.1"
  }
 },
 "nbformat": 4,
 "nbformat_minor": 2
}
